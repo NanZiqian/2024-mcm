{
 "cells": [
  {
   "cell_type": "code",
   "execution_count": 2,
   "metadata": {},
   "outputs": [],
   "source": [
    "import csv\n",
    "\n",
    "def keep_floats_from_csv(input_file, output_file):\n",
    "    with open(input_file, 'r') as infile, open(output_file, 'w', newline='') as outfile:\n",
    "        reader = csv.reader(infile)\n",
    "        writer = csv.writer(outfile)\n",
    "\n",
    "        for row in reader:\n",
    "            new_row = []\n",
    "            for value in row:\n",
    "                try:\n",
    "                    # Attempt to convert the value to a float\n",
    "                    float_value = float(value)\n",
    "                    new_row.append(float_value)\n",
    "                except ValueError:\n",
    "                    # Skip non-float values\n",
    "                    pass\n",
    "\n",
    "            if new_row:\n",
    "                writer.writerow(new_row)\n",
    "\n",
    "# Replace 'input.csv' and 'output.csv' with your actual file names\n",
    "keep_floats_from_csv('merge.csv', 'output.csv')"
   ]
  },
  {
   "cell_type": "code",
   "execution_count": null,
   "metadata": {},
   "outputs": [],
   "source": []
  }
 ],
 "metadata": {
  "kernelspec": {
   "display_name": "base",
   "language": "python",
   "name": "python3"
  },
  "language_info": {
   "codemirror_mode": {
    "name": "ipython",
    "version": 3
   },
   "file_extension": ".py",
   "mimetype": "text/x-python",
   "name": "python",
   "nbconvert_exporter": "python",
   "pygments_lexer": "ipython3",
   "version": "3.11.4"
  }
 },
 "nbformat": 4,
 "nbformat_minor": 2
}
