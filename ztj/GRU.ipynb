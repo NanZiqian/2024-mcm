{
 "cells": [
  {
   "cell_type": "code",
   "execution_count": null,
   "metadata": {},
   "outputs": [],
   "source": [
    "import torch\n",
    "from torch import nn\n",
    "import numpy as np\n",
    "import pandas as pd\n",
    "from torch.utils.data import TensorDataset\n",
    "from torch.utils.data import DataLoader\n",
    "from tqdm import tqdm"
   ]
  },
  {
   "cell_type": "code",
   "execution_count": null,
   "metadata": {},
   "outputs": [],
   "source": [
    "# GRU\n",
    "class GRURNN(nn.Module):\n",
    "    def __init__(self, input_size, hidden_size, num_layers, output_size):\n",
    "        super().__init__()\n",
    "        self.input_size = input_size\n",
    "        self.hidden_size = hidden_size\n",
    "        self.num_layers = num_layers\n",
    "        self.gru = nn.GRU(self.input_size, self.hidden_size, self.num_layers, batch_first=True)\n",
    "        self.fc1 = nn.Linear(self.hidden_size, output_size)\n",
    "        self.fc2 = nn.Linear(self.hidden_size, output_size)\n",
    "        self.fc3 = nn.Linear(self.hidden_size, output_size)\n",
    "        self.fc4 = nn.Linear(self.hidden_size, output_size)\n",
    "        self.fc5 = nn.Linear(self.hidden_size, output_size)\n",
    "        self.softmax = nn.Softmax(dim=1)\n",
    " \n",
    "    def forward(self, input_seq):\n",
    "        batch_size = input_seq.shape[0]\n",
    "        h_0 = torch.zeros(self.num_layers, batch_size, self.hidden_size)\n",
    "        output, _ = self.gru(input_seq,h_0)\n",
    "        pred1 = self.fc1(output)\n",
    "        pred2 = self.fc2(output)\n",
    "        pred3 = self.fc3(output)\n",
    "        pred4 = self.fc4(output)\n",
    "        pred5 = self.fc5(output)\n",
    "        pred1, pred2, pred3, pred4, pred5 = pred1[:, -1, :], pred2[:, -1, :], pred3[:, -1, :], pred4[:, -1, :], pred5[:, -1, :]\n",
    "        pred1, pred2, pred3, pred4, pred5 = self.softmax(pred1), self.softmax(pred2), self.softmax(pred3), self.softmax(pred4), self.softmax(pred5)\n",
    "        pred = torch.stack([pred1, pred2, pred3, pred4, pred5], dim=1)\n",
    "        return pred"
   ]
  },
  {
   "cell_type": "code",
   "execution_count": null,
   "metadata": {},
   "outputs": [],
   "source": [
    "class Config():\n",
    "    data_path = './matchstat.csv' # TODO: change data_path\n",
    "    timestep = 10\n",
    "    batch_size = 32\n",
    "    feature_size = 13 # TODO: change the feature size accordingly\n",
    "    hidden_size = 256\n",
    "    output_size = 4\n",
    "    num_layers = 5 # TODO: can change\n",
    "    epochs = 10 # TODO: can change\n",
    "    best_loss = 0\n",
    "    learning_rate = 0.0003 # TODO: can change\n",
    "    model_name = 'GRU_for_tennis_momentum_swing'\n",
    "    save_path = './{}.pth'.format(model_name)\n",
    "\n",
    "config = Config()"
   ]
  },
  {
   "cell_type": "code",
   "execution_count": null,
   "metadata": {},
   "outputs": [],
   "source": [
    "df = pd.read_csv(config.data_path)\n",
    "data = np.array(df)\n",
    "\n",
    "def split_data(data, timestep, feature_size, output_size):\n",
    "    dataX = []\n",
    "    dataY = []\n",
    "    for i in range(len(data) - timestep):\n",
    "        dataX.append(data[i: i + timestep][:, :feature_size])\n",
    "\n",
    "\n",
    "    train_size = np.round(0.8 * dataX.shape[0])\n",
    "    trainX = dataX[:train_size, :].reshape(-1, timestep, feature_size)\n",
    "    testX = dataX[train_size:, :].reshape(-1, timestep, feature_size)\n",
    "    trainY = dataY[:train_size, :].reshape(-1, output_size)\n",
    "    testY = dataY[train_size:, :].reshape(-1, output_size)\n",
    "    return trainX, trainY, testX, testY\n",
    "\n",
    "trainX, trainY, testX, testY = split_data(data, config.timestep, config.feature_size, config.output_size)\n",
    "x_train_tensor = torch.from_numpy(trainX).to(torch.float32)\n",
    "y_train_tensor = torch.from_numpy(trainY).to(torch.float32)\n",
    "x_test_tensor = torch.from_numpy(testX).to(torch.float32)\n",
    "y_test_tensor = torch.from_numpy(testY).to(torch.float32)\n",
    "\n",
    "train_data = TensorDataset(x_train_tensor, y_train_tensor)\n",
    "test_data = TensorDataset(x_test_tensor, y_test_tensor)\n",
    "\n",
    "train_loader = DataLoader(train_data, config.batch_size, False)\n",
    "test_loader = DataLoader(test_data, config.batch_size, False)\n"
   ]
  },
  {
   "cell_type": "code",
   "execution_count": null,
   "metadata": {},
   "outputs": [],
   "source": [
    "model = GRURNN(config.feature_size, config.hidden_size, config.num_layers, config.output_size)\n",
    "loss_function = nn.CrossEntropyLoss()\n",
    "optimizer = torch.optim.AdamW(model.parameters(), lr=config.learning_rate)"
   ]
  },
  {
   "cell_type": "code",
   "execution_count": null,
   "metadata": {},
   "outputs": [],
   "source": [
    "for epoch in range(config.epochs):\n",
    "    model.train()\n",
    "    running_loss = 0\n",
    "    train_bar = tqdm(train_loader)\n",
    "    for data in train_bar:\n",
    "        x_train, y_train = data\n",
    "        optimizer.zero_grad()\n",
    "        y_train_pred = model(x_train)\n",
    "        loss = loss_function(y_train_pred, y_train.reshape(-1, config.output_size))\n",
    "        loss.backward()\n",
    "        optimizer.step()\n",
    "        \n",
    "        running_loss += loss.item()\n",
    "        train_bar.desc = 'train epoch[{}/{}] loss: {:.3f}'.format(epoch + 1, config.epochs, loss)\n"
   ]
  },
  {
   "cell_type": "code",
   "execution_count": null,
   "metadata": {},
   "outputs": [],
   "source": []
  },
  {
   "cell_type": "code",
   "execution_count": 2,
   "metadata": {},
   "outputs": [
    {
     "name": "stdout",
     "output_type": "stream",
     "text": [
      "tensor(1.2692)\n"
     ]
    }
   ],
   "source": [
    "import torch\n",
    "import torch.nn as nn\n",
    "import math\n",
    "\n",
    "entroy=nn.CrossEntropyLoss()\n",
    "input=torch.Tensor([[-0.7715, -0.6205,-0.2562], [-0.7715, -0.6205,-0.2562]])\n",
    "target = torch.tensor([0, 1])\n",
    "output = entroy(input, target)\n",
    "print(output)"
   ]
  }
 ],
 "metadata": {
  "kernelspec": {
   "display_name": "Python 3 (ipykernel)",
   "language": "python",
   "name": "python3"
  },
  "language_info": {
   "codemirror_mode": {
    "name": "ipython",
    "version": 3
   },
   "file_extension": ".py",
   "mimetype": "text/x-python",
   "name": "python",
   "nbconvert_exporter": "python",
   "pygments_lexer": "ipython3",
   "version": "3.11.4"
  }
 },
 "nbformat": 4,
 "nbformat_minor": 2
}
