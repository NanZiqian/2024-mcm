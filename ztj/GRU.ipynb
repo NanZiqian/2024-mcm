{
 "cells": [
  {
   "cell_type": "code",
   "execution_count": 11,
   "metadata": {},
   "outputs": [],
   "source": [
    "import torch\n",
    "from torch import nn\n",
    "import numpy as np\n",
    "import pandas as pd\n",
    "from torch.utils.data import TensorDataset\n",
    "from torch.utils.data import DataLoader\n",
    "from tqdm import tqdm"
   ]
  },
  {
   "cell_type": "code",
   "execution_count": 139,
   "metadata": {},
   "outputs": [],
   "source": [
    "class Config():\n",
    "    input_paths =  ['./data_for_training/data/2023-wimbledon-1301-player1.csv',\n",
    "                    './data_for_training/data/2023-wimbledon-1301-player2.csv',\n",
    "                    './data_for_training/data/2023-wimbledon-1302-player1.csv',\n",
    "                    './data_for_training/data/2023-wimbledon-1302-player2.csv',\n",
    "                    './data_for_training/data/2023-wimbledon-1303-player1.csv',\n",
    "                    './data_for_training/data/2023-wimbledon-1303-player2.csv',\n",
    "                    './data_for_training/data/2023-wimbledon-1304-player1.csv',\n",
    "                    './data_for_training/data/2023-wimbledon-1304-player2.csv',\n",
    "                    './data_for_training/data/2023-wimbledon-1305-player1.csv',\n",
    "                    './data_for_training/data/2023-wimbledon-1305-player2.csv',\n",
    "                    './data_for_training/data/2023-wimbledon-1306-player1.csv',\n",
    "                    './data_for_training/data/2023-wimbledon-1306-player2.csv',\n",
    "                    './data_for_training/data/2023-wimbledon-1307-player1.csv',\n",
    "                    './data_for_training/data/2023-wimbledon-1307-player2.csv',\n",
    "                    './data_for_training/data/2023-wimbledon-1308-player1.csv',\n",
    "                    './data_for_training/data/2023-wimbledon-1308-player2.csv',\n",
    "                    './data_for_training/data/2023-wimbledon-1309-player1.csv',\n",
    "                    './data_for_training/data/2023-wimbledon-1309-player2.csv',\n",
    "                    './data_for_training/data/2023-wimbledon-1310-player1.csv',\n",
    "                    './data_for_training/data/2023-wimbledon-1310-player2.csv',\n",
    "                    './data_for_training/data/2023-wimbledon-1311-player1.csv',\n",
    "                    './data_for_training/data/2023-wimbledon-1311-player2.csv',\n",
    "                    './data_for_training/data/2023-wimbledon-1312-player1.csv',\n",
    "                    './data_for_training/data/2023-wimbledon-1312-player2.csv',\n",
    "                    './data_for_training/data/2023-wimbledon-1313-player1.csv',\n",
    "                    './data_for_training/data/2023-wimbledon-1313-player2.csv',\n",
    "                    './data_for_training/data/2023-wimbledon-1314-player1.csv',\n",
    "                    './data_for_training/data/2023-wimbledon-1314-player2.csv',\n",
    "                    './data_for_training/data/2023-wimbledon-1315-player1.csv',\n",
    "                    './data_for_training/data/2023-wimbledon-1315-player2.csv',\n",
    "                    './data_for_training/data/2023-wimbledon-1316-player1.csv',\n",
    "                    './data_for_training/data/2023-wimbledon-1316-player2.csv',\n",
    "                    './data_for_training/data/2023-wimbledon-1401-player1.csv',\n",
    "                    './data_for_training/data/2023-wimbledon-1401-player2.csv',\n",
    "                    './data_for_training/data/2023-wimbledon-1402-player1.csv',\n",
    "                    './data_for_training/data/2023-wimbledon-1402-player2.csv',\n",
    "                    './data_for_training/data/2023-wimbledon-1403-player1.csv',\n",
    "                    './data_for_training/data/2023-wimbledon-1403-player2.csv',\n",
    "                    './data_for_training/data/2023-wimbledon-1404-player1.csv',\n",
    "                    './data_for_training/data/2023-wimbledon-1404-player2.csv',\n",
    "                    './data_for_training/data/2023-wimbledon-1405-player1.csv',\n",
    "                    './data_for_training/data/2023-wimbledon-1405-player2.csv',\n",
    "                    './data_for_training/data/2023-wimbledon-1406-player1.csv',\n",
    "                    './data_for_training/data/2023-wimbledon-1406-player2.csv',\n",
    "                    './data_for_training/data/2023-wimbledon-1407-player1.csv',\n",
    "                    './data_for_training/data/2023-wimbledon-1407-player2.csv',\n",
    "                    './data_for_training/data/2023-wimbledon-1408-player1.csv',\n",
    "                    './data_for_training/data/2023-wimbledon-1408-player2.csv',\n",
    "                    './data_for_training/data/2023-wimbledon-1501-player1.csv',\n",
    "                    './data_for_training/data/2023-wimbledon-1501-player2.csv',\n",
    "                    './data_for_training/data/2023-wimbledon-1502-player1.csv',\n",
    "                    './data_for_training/data/2023-wimbledon-1502-player2.csv',\n",
    "                    './data_for_training/data/2023-wimbledon-1503-player1.csv',\n",
    "                    './data_for_training/data/2023-wimbledon-1503-player2.csv',\n",
    "                    './data_for_training/data/2023-wimbledon-1504-player1.csv',\n",
    "                    './data_for_training/data/2023-wimbledon-1504-player2.csv',\n",
    "                    './data_for_training/data/2023-wimbledon-1601-player1.csv',\n",
    "                    './data_for_training/data/2023-wimbledon-1601-player2.csv',\n",
    "                    './data_for_training/data/2023-wimbledon-1602-player1.csv',\n",
    "                    './data_for_training/data/2023-wimbledon-1602-player2.csv',\n",
    "                    './data_for_training/data/2023-wimbledon-1701-player1.csv',\n",
    "                    './data_for_training/data/2023-wimbledon-1701-player2.csv',\n",
    "                    ]\n",
    "    timestep = 10\n",
    "    batch_size = 64\n",
    "    feature_size = 16\n",
    "    hidden_size = 60 # TODO: can change\n",
    "    output_size = 4\n",
    "    predict_len = 5\n",
    "    num_layers = 2 # TODO: can change\n",
    "    epochs = 10 # TODO: can change\n",
    "    best_loss = 100\n",
    "    learning_rate = 0.001 # TODO: can change\n",
    "    model_name = 'GRU_for_tennis_momentum_swing'\n",
    "    save_path = './{}.pth'.format(model_name)\n",
    "\n",
    "config = Config()"
   ]
  },
  {
   "cell_type": "code",
   "execution_count": null,
   "metadata": {},
   "outputs": [],
   "source": [
    "\n",
    "def fetch_data(dataX, dataY, flag, timestep, feature_size, output_size, pred_len):\n",
    "    myDataX = []\n",
    "    myDataY = []\n",
    "    for i in range(0, len(dataX) - timestep):\n",
    "        target_row = dataY[i + timestep - 1].reshape(-1, output_size)\n",
    "        res = []\n",
    "        for j in range(pred_len):\n",
    "            for k in range(output_size):\n",
    "                if target_row[j][k] == 1:\n",
    "                    if flag:\n",
    "                        res.append(2 - k if k % 2 == 0 else 4 - k)\n",
    "                    else:\n",
    "                        res.append(k)\n",
    "                    break\n",
    "        if len(res) != pred_len:\n",
    "            break\n",
    "        myDataX.append(dataX[i: i + timestep])\n",
    "        myDataY.append(res)\n",
    "    myDataX = np.array(myDataX)\n",
    "    myDataY = np.array(myDataY)\n",
    "\n",
    "    train_size = int(np.round(0.8 * myDataX.shape[0]))\n",
    "    trainX = myDataX[:train_size, :].reshape(-1, timestep, feature_size)\n",
    "    testX = myDataX[train_size:, :].reshape(-1, timestep, feature_size)\n",
    "    trainY = myDataY[:train_size, :].reshape(-1, pred_len)\n",
    "    testY = myDataY[train_size:, :].reshape(-1, pred_len)\n",
    "    return (trainX, trainY, testX, testY)\n",
    "\n",
    "trainX = []\n",
    "trainY = []\n",
    "testX = []\n",
    "testY = []\n",
    "dfy = pd.read_csv('./data_for_training/momentum_condition.csv')\n",
    "dataY = np.array(dfy)\n",
    "df_idx = pd.read_csv('./data_for_training/match_index.csv')\n",
    "match_id = np.array(df_idx).reshape(-1)\n",
    "for i in range(len(match_id)):\n",
    "    match_id[i] -= 1\n",
    "pos = 0\n",
    "match_no = 0\n",
    "\n",
    "for input_path in config.input_paths:\n",
    "    dfx = pd.read_csv(input_path)\n",
    "    dataX = np.array(dfx)\n",
    "    a, b, c, d = fetch_data(dataX, dataY[pos: match_id[match_no // 2]], match_no % 2, config.timestep, config.feature_size, config.output_size, config.predict_len)\n",
    "    if match_no % 2 == 1:\n",
    "        pos = match_id[match_no // 2]\n",
    "        print(\"match {:d}: point {:d}-{:d} in train set (for TWO times, one for each player), point {:d}-{:d} in test set (for TWO times, one for each player).\".format(match_no // 2 + 1, config.timestep, config.timestep + len(a) - 1, config.timestep + len(a), config.timestep + len(a) + len(c) - 1))\n",
    "    match_no += 1\n",
    "    for x in a:\n",
    "        trainX.append(x)\n",
    "    for y in b:\n",
    "        trainY.append(y)\n",
    "    for x in c:\n",
    "        testX.append(x)\n",
    "    for y in d:\n",
    "        testY.append(y)\n",
    "trainX = np.array(trainX).reshape(-1, config.timestep, config.feature_size)\n",
    "testX = np.array(testX).reshape(-1, config.timestep, config.feature_size)\n",
    "trainY = np.array(trainY).reshape(-1, config.predict_len)\n",
    "testY = np.array(testY).reshape(-1, config.predict_len)\n",
    "\n",
    "x_train_tensor = torch.from_numpy(trainX).to(torch.float32)\n",
    "y_train_tensor = torch.from_numpy(trainY).to(torch.long)\n",
    "\n",
    "x_test_tensor = torch.from_numpy(testX).to(torch.float32)\n",
    "y_test_tensor = torch.from_numpy(testY).to(torch.long)\n",
    "\n",
    "train_data = TensorDataset(x_train_tensor, y_train_tensor)\n",
    "test_data = TensorDataset(x_test_tensor, y_test_tensor)\n",
    "\n",
    "train_loader = DataLoader(train_data, config.batch_size, False)\n",
    "test_loader = DataLoader(test_data, config.batch_size, False)"
   ]
  },
  {
   "cell_type": "code",
   "execution_count": 14,
   "metadata": {},
   "outputs": [],
   "source": [
    "# GRU\n",
    "class GRURNN(nn.Module):\n",
    "    def __init__(self, input_size, hidden_size, num_layers, output_size):\n",
    "        super().__init__()\n",
    "        self.input_size = input_size\n",
    "        self.hidden_size = hidden_size\n",
    "        self.num_layers = num_layers\n",
    "        self.gru = nn.GRU(self.input_size, self.hidden_size, self.num_layers, batch_first=True)\n",
    "        self.fc1 = nn.Linear(self.hidden_size, output_size)\n",
    "        self.fc2 = nn.Linear(self.hidden_size, output_size)\n",
    "        self.fc3 = nn.Linear(self.hidden_size, output_size)\n",
    "        self.fc4 = nn.Linear(self.hidden_size, output_size)\n",
    "        self.fc5 = nn.Linear(self.hidden_size, output_size)\n",
    "        self.softmax = nn.Softmax(dim=1)\n",
    " \n",
    "    def forward(self, input_seq):\n",
    "        batch_size = input_seq.shape[0]\n",
    "        h_0 = torch.zeros(self.num_layers, batch_size, self.hidden_size)\n",
    "        output, _ = self.gru(input_seq,h_0)\n",
    "        pred1 = self.fc1(output)\n",
    "        pred2 = self.fc2(output)\n",
    "        pred3 = self.fc3(output)\n",
    "        pred4 = self.fc4(output)\n",
    "        pred5 = self.fc5(output)\n",
    "        pred1, pred2, pred3, pred4, pred5 = pred1[:, -1, :], pred2[:, -1, :], pred3[:, -1, :], pred4[:, -1, :], pred5[:, -1, :]\n",
    "        pred1, pred2, pred3, pred4, pred5 = self.softmax(pred1), self.softmax(pred2), self.softmax(pred3), self.softmax(pred4), self.softmax(pred5)\n",
    "        pred = torch.stack([pred1, pred2, pred3, pred4, pred5], dim=1)\n",
    "        return pred"
   ]
  },
  {
   "cell_type": "code",
   "execution_count": 144,
   "metadata": {},
   "outputs": [],
   "source": [
    "\n",
    "model = GRURNN(config.feature_size, config.hidden_size, config.num_layers, config.output_size)\n",
    "loss_function = nn.CrossEntropyLoss()\n",
    "optimizer = torch.optim.AdamW(model.parameters(), lr=config.learning_rate)"
   ]
  },
  {
   "cell_type": "code",
   "execution_count": 147,
   "metadata": {},
   "outputs": [
    {
     "name": "stderr",
     "output_type": "stream",
     "text": [
      "train epoch[1/10] loss: 6.738: 100%|█████████████████████████████████████████████████| 171/171 [00:01<00:00, 152.89it/s]\n",
      "train epoch[2/10] loss: 6.732: 100%|█████████████████████████████████████████████████| 171/171 [00:01<00:00, 153.51it/s]\n",
      "train epoch[3/10] loss: 6.729: 100%|█████████████████████████████████████████████████| 171/171 [00:01<00:00, 150.92it/s]\n",
      "train epoch[4/10] loss: 6.730: 100%|█████████████████████████████████████████████████| 171/171 [00:01<00:00, 151.90it/s]\n",
      "train epoch[5/10] loss: 6.734: 100%|█████████████████████████████████████████████████| 171/171 [00:01<00:00, 155.69it/s]\n",
      "train epoch[6/10] loss: 6.734: 100%|█████████████████████████████████████████████████| 171/171 [00:01<00:00, 148.33it/s]\n",
      "train epoch[7/10] loss: 6.728: 100%|█████████████████████████████████████████████████| 171/171 [00:01<00:00, 154.37it/s]\n",
      "train epoch[8/10] loss: 6.718: 100%|█████████████████████████████████████████████████| 171/171 [00:01<00:00, 158.89it/s]\n",
      "train epoch[9/10] loss: 6.704: 100%|█████████████████████████████████████████████████| 171/171 [00:01<00:00, 147.14it/s]\n",
      "train epoch[10/10] loss: 6.685: 100%|████████████████████████████████████████████████| 171/171 [00:01<00:00, 153.32it/s]\n"
     ]
    }
   ],
   "source": [
    "for epoch in range(config.epochs):\n",
    "    model.train()\n",
    "    running_loss = 0\n",
    "    train_bar = tqdm(train_loader)\n",
    "    for data in train_bar:\n",
    "        x_train, y_train = data\n",
    "        optimizer.zero_grad()\n",
    "        y_train_pred = model(x_train)\n",
    "\n",
    "        loss1 = loss_function(y_train_pred[:, 0, :], y_train[:, 0])\n",
    "        loss2 = loss_function(y_train_pred[:, 1, :], y_train[:, 1])\n",
    "        loss3 = loss_function(y_train_pred[:, 2, :], y_train[:, 2])\n",
    "        loss4 = loss_function(y_train_pred[:, 3, :], y_train[:, 3])\n",
    "        loss5 = loss_function(y_train_pred[:, 4, :], y_train[:, 4])\n",
    "        # loss = max(loss1, loss2, loss3, loss4, loss5)\n",
    "        loss = loss1 + loss2 + loss3 + loss4 + loss5\n",
    "        # loss = 5 * loss1 + 2 * loss2 + loss3 + loss4 + loss5\n",
    "        \n",
    "        loss.backward()\n",
    "        optimizer.step()\n",
    "        # print(\"loss =\", loss)\n",
    "        \n",
    "        running_loss += loss.item()\n",
    "        train_bar.desc = 'train epoch[{}/{}] loss: {:.3f}'.format(epoch + 1, config.epochs, loss)\n",
    "    \n",
    "    # model.eval()\n",
    "    # test_loss = 0\n",
    "    # with torch.no_grad():\n",
    "    #     test_bar = tqdm(test_loader)\n",
    "    #     for data in test_bar:\n",
    "    #         x_test, y_test = data\n",
    "    #         y_test_pred = model(x_test)\n",
    "    #         loss1 = loss_function(y_test_pred[:, 0, :], y_test[:, 0])\n",
    "    #         loss2 = loss_function(y_test_pred[:, 1, :], y_test[:, 1])\n",
    "    #         loss3 = loss_function(y_test_pred[:, 2, :], y_test[:, 2])\n",
    "    #         loss4 = loss_function(y_test_pred[:, 3, :], y_test[:, 3])\n",
    "    #         loss5 = loss_function(y_test_pred[:, 4, :], y_test[:, 4])\n",
    "    #         # test_loss = max(loss1, loss2, loss3, loss4, loss5)\n",
    "    #         # test_loss = loss1 + loss2 + loss3 + loss4 + loss5\n",
    "    #         test_loss = 5 * loss1 + 3 * loss2 + loss3 + loss4 + loss5\n",
    "    \n",
    "    # if test_loss < config.best_loss:\n",
    "    #     config.best_loss = test_loss\n",
    "    #     torch.save(model.state_dict(), config.save_path)\n"
   ]
  },
  {
   "cell_type": "code",
   "execution_count": 148,
   "metadata": {},
   "outputs": [
    {
     "name": "stderr",
     "output_type": "stream",
     "text": [
      "100%|█████████████████████████████████████████████████████████████████████████████████| 171/171 [00:01<00:00, 87.32it/s]\n"
     ]
    },
    {
     "name": "stdout",
     "output_type": "stream",
     "text": [
      "train set predict rate for step 1 is: 0.537940\n",
      "train set predict rate for step 2 is: 0.493035\n",
      "train set predict rate for step 3 is: 0.469300\n",
      "train set predict rate for step 4 is: 0.457936\n",
      "train set predict rate for step 5 is: 0.447122\n"
     ]
    },
    {
     "name": "stderr",
     "output_type": "stream",
     "text": [
      "100%|███████████████████████████████████████████████████████████████████████████████████| 43/43 [00:00<00:00, 90.01it/s]"
     ]
    },
    {
     "name": "stdout",
     "output_type": "stream",
     "text": [
      "test set predict rate for step 1 is: 0.507337\n",
      "test set predict rate for step 2 is: 0.427366\n",
      "test set predict rate for step 3 is: 0.405723\n",
      "test set predict rate for step 4 is: 0.409391\n",
      "test set predict rate for step 5 is: 0.403522\n"
     ]
    },
    {
     "name": "stderr",
     "output_type": "stream",
     "text": [
      "\n"
     ]
    }
   ],
   "source": [
    "# model = GRURNN(config.feature_size, config.hidden_size, config.num_layers, config.output_size)\n",
    "# model.load_state_dict(torch.load(config.save_path))\n",
    "\n",
    "model.eval()\n",
    "with torch.no_grad():\n",
    "    train_bar = tqdm(train_loader)\n",
    "\n",
    "    predict_rate = [0 for _ in range(config.predict_len)]\n",
    "    tot = [0 for _ in range(config.predict_len)]\n",
    "    for data in train_bar:\n",
    "        x_train, y_train = data\n",
    "        y_train_pred = model(x_train)\n",
    "        for i in range(config.predict_len):\n",
    "            tot[i] += x_train.shape[0]\n",
    "        for i in range(x_train.shape[0]):\n",
    "            for j in range(config.predict_len):\n",
    "                pred = 0\n",
    "                for k in range(config.output_size):\n",
    "                    if y_train_pred[i][j][k].item() > y_train_pred[i][j][pred].item():\n",
    "                        pred = k\n",
    "                predict_rate[j] += (1 if pred == y_train[i][j] else 0)\n",
    "    for i in range(config.predict_len):\n",
    "        print('train set predict rate for step {:d} is: {:f}'.format(i + 1, predict_rate[i] / tot[i]))\n",
    "    test_bar = tqdm(test_loader)\n",
    "\n",
    "    predict_rate = [0 for _ in range(config.predict_len)]\n",
    "    tot = [0 for _ in range(config.predict_len)]\n",
    "    for data in test_bar:\n",
    "        x_test, y_test = data\n",
    "        y_test_pred = model(x_test)\n",
    "        for i in range(config.predict_len):\n",
    "            tot[i] += x_test.shape[0]\n",
    "        for i in range(x_test.shape[0]):\n",
    "            for j in range(config.predict_len):\n",
    "                pred = 0\n",
    "                for k in range(config.output_size):\n",
    "                    if y_test_pred[i][j][k].item() > y_test_pred[i][j][pred].item():\n",
    "                        pred = k\n",
    "                predict_rate[j] += (1 if pred == y_test[i][j] else 0)\n",
    "    for i in range(config.predict_len):\n",
    "        print('test set predict rate for step {:d} is: {:f}'.format(i + 1, predict_rate[i] / tot[i]))"
   ]
  },
  {
   "cell_type": "code",
   "execution_count": 149,
   "metadata": {},
   "outputs": [],
   "source": [
    "torch.save(model.state_dict(), config.save_path)"
   ]
  },
  {
   "cell_type": "code",
   "execution_count": 151,
   "metadata": {},
   "outputs": [
    {
     "name": "stdout",
     "output_type": "stream",
     "text": [
      "-----------model_max------------\n"
     ]
    },
    {
     "name": "stderr",
     "output_type": "stream",
     "text": [
      "100%|█████████████████████████████████████████████████████████████████████████████████| 171/171 [00:01<00:00, 92.22it/s]\n"
     ]
    },
    {
     "name": "stdout",
     "output_type": "stream",
     "text": [
      "train set predict rate for step 1 is: 0.558284\n",
      "train set predict rate for step 2 is: 0.543897\n",
      "train set predict rate for step 3 is: 0.533816\n",
      "train set predict rate for step 4 is: 0.534732\n",
      "train set predict rate for step 5 is: 0.533449\n"
     ]
    },
    {
     "name": "stderr",
     "output_type": "stream",
     "text": [
      "100%|███████████████████████████████████████████████████████████████████████████████████| 43/43 [00:00<00:00, 86.93it/s]\n"
     ]
    },
    {
     "name": "stdout",
     "output_type": "stream",
     "text": [
      "test set predict rate for step 1 is: 0.455613\n",
      "test set predict rate for step 2 is: 0.411225\n",
      "test set predict rate for step 3 is: 0.378210\n",
      "test set predict rate for step 4 is: 0.377843\n",
      "test set predict rate for step 5 is: 0.375275\n",
      "-----------model_sum------------\n"
     ]
    },
    {
     "name": "stderr",
     "output_type": "stream",
     "text": [
      "100%|█████████████████████████████████████████████████████████████████████████████████| 171/171 [00:02<00:00, 74.87it/s]\n"
     ]
    },
    {
     "name": "stdout",
     "output_type": "stream",
     "text": [
      "train set predict rate for step 1 is: 0.537940\n",
      "train set predict rate for step 2 is: 0.493035\n",
      "train set predict rate for step 3 is: 0.469300\n",
      "train set predict rate for step 4 is: 0.457936\n",
      "train set predict rate for step 5 is: 0.447122\n"
     ]
    },
    {
     "name": "stderr",
     "output_type": "stream",
     "text": [
      "100%|██████████████████████████████████████████████████████████████████████████████████| 43/43 [00:00<00:00, 100.37it/s]\n"
     ]
    },
    {
     "name": "stdout",
     "output_type": "stream",
     "text": [
      "test set predict rate for step 1 is: 0.507337\n",
      "test set predict rate for step 2 is: 0.427366\n",
      "test set predict rate for step 3 is: 0.405723\n",
      "test set predict rate for step 4 is: 0.409391\n",
      "test set predict rate for step 5 is: 0.403522\n",
      "----model_linear_combination----\n"
     ]
    },
    {
     "name": "stderr",
     "output_type": "stream",
     "text": [
      "100%|█████████████████████████████████████████████████████████████████████████████████| 171/171 [00:01<00:00, 89.98it/s]\n"
     ]
    },
    {
     "name": "stdout",
     "output_type": "stream",
     "text": [
      "train set predict rate for step 1 is: 0.557918\n",
      "train set predict rate for step 2 is: 0.499542\n",
      "train set predict rate for step 3 is: 0.450330\n",
      "train set predict rate for step 4 is: 0.441990\n",
      "train set predict rate for step 5 is: 0.432276\n"
     ]
    },
    {
     "name": "stderr",
     "output_type": "stream",
     "text": [
      "100%|███████████████████████████████████████████████████████████████████████████████████| 43/43 [00:00<00:00, 94.53it/s]"
     ]
    },
    {
     "name": "stdout",
     "output_type": "stream",
     "text": [
      "test set predict rate for step 1 is: 0.523478\n",
      "test set predict rate for step 2 is: 0.449010\n",
      "test set predict rate for step 3 is: 0.418562\n",
      "test set predict rate for step 4 is: 0.418562\n",
      "test set predict rate for step 5 is: 0.415994\n"
     ]
    },
    {
     "name": "stderr",
     "output_type": "stream",
     "text": [
      "\n"
     ]
    }
   ],
   "source": [
    "\n",
    "def compute_prediction(model, output_file):\n",
    "    model.eval()\n",
    "    \n",
    "    lst = []\n",
    "    column = ['is_train_set', 'pred_y1', 'pred_y2', 'pred_y3', 'pred_y4', 'pred_y5', 'target_y1', 'target_y2', 'target_y3', 'target_y4', 'target_y5']\n",
    "    with torch.no_grad():\n",
    "        train_bar = tqdm(train_loader)\n",
    "\n",
    "        predict_rate = [0 for _ in range(config.predict_len)]\n",
    "        tot = [0 for _ in range(config.predict_len)]\n",
    "        for data in train_bar:\n",
    "            x_train, y_train = data\n",
    "            y_train_pred = model(x_train)\n",
    "            for i in range(config.predict_len):\n",
    "                tot[i] += x_train.shape[0]\n",
    "            for i in range(x_train.shape[0]):\n",
    "                row = [1]\n",
    "                for j in range(config.predict_len):\n",
    "                    pred = 0\n",
    "                    for k in range(config.output_size):\n",
    "                        if y_train_pred[i][j][k].item() > y_train_pred[i][j][pred].item():\n",
    "                            pred = k\n",
    "                    predict_rate[j] += (1 if pred == y_train[i][j] else 0)\n",
    "                    row.append(pred)\n",
    "                for j in range(config.predict_len):\n",
    "                    row.append(y_train[i][j].item())\n",
    "                lst.append(row)\n",
    "        for i in range(config.predict_len):\n",
    "            print('train set predict rate for step {:d} is: {:f}'.format(i + 1, predict_rate[i] / tot[i]))\n",
    "        \n",
    "        test_bar = tqdm(test_loader)\n",
    "\n",
    "        predict_rate = [0 for _ in range(config.predict_len)]\n",
    "        tot = [0 for _ in range(config.predict_len)]\n",
    "        for data in test_bar:\n",
    "            x_test, y_test = data\n",
    "            y_test_pred = model(x_test)\n",
    "            for i in range(config.predict_len):\n",
    "                tot[i] += x_test.shape[0]\n",
    "            for i in range(x_test.shape[0]):\n",
    "                row = [0]\n",
    "                for j in range(config.predict_len):\n",
    "                    pred = 0\n",
    "                    for k in range(config.output_size):\n",
    "                        if y_test_pred[i][j][k].item() > y_test_pred[i][j][pred].item():\n",
    "                            pred = k\n",
    "                    predict_rate[j] += (1 if pred == y_test[i][j] else 0)\n",
    "                    row.append(pred)\n",
    "                for j in range(config.predict_len):\n",
    "                    row.append(y_test[i][j].item())\n",
    "                lst.append(row)\n",
    "        for i in range(config.predict_len):\n",
    "            print('test set predict rate for step {:d} is: {:f}'.format(i + 1, predict_rate[i] / tot[i]))\n",
    "    df = pd.DataFrame(lst, columns = column)\n",
    "    df.to_csv(output_file)\n",
    "\n",
    "model_max = GRURNN(config.feature_size, config.hidden_size, config.num_layers, config.output_size)\n",
    "model_sum = GRURNN(config.feature_size, config.hidden_size, config.num_layers, config.output_size)\n",
    "model_lc = GRURNN(config.feature_size, config.hidden_size, config.num_layers, config.output_size)\n",
    "model_max.load_state_dict(torch.load('./GRU_for_tennis_momentum_swing_max.pth'))\n",
    "model_sum.load_state_dict(torch.load('./GRU_for_tennis_momentum_swing_sum.pth'))\n",
    "model_lc.load_state_dict(torch.load('./GRU_for_tennis_momentum_swing_lc.pth'))\n",
    "print('-----------model_max------------')\n",
    "compute_prediction(model_max, './pred_res/model_max.csv')\n",
    "print('-----------model_sum------------')\n",
    "compute_prediction(model_sum, './pred_res/model_sum.csv')\n",
    "print('----model_linear_combination----')\n",
    "compute_prediction(model_lc, './pred_res/model_lc.csv')"
   ]
  }
 ],
 "metadata": {
  "kernelspec": {
   "display_name": "Python 3 (ipykernel)",
   "language": "python",
   "name": "python3"
  },
  "language_info": {
   "codemirror_mode": {
    "name": "ipython",
    "version": 3
   },
   "file_extension": ".py",
   "mimetype": "text/x-python",
   "name": "python",
   "nbconvert_exporter": "python",
   "pygments_lexer": "ipython3",
   "version": "3.11.4"
  }
 },
 "nbformat": 4,
 "nbformat_minor": 2
}
