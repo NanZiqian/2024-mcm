{
 "cells": [
  {
   "cell_type": "code",
   "execution_count": 1,
   "metadata": {},
   "outputs": [],
   "source": [
    "import torch\n",
    "from torch import nn\n",
    "import numpy as np\n",
    "import pandas as pd\n",
    "from torch.utils.data import TensorDataset\n",
    "from torch.utils.data import DataLoader\n",
    "from tqdm import tqdm"
   ]
  },
  {
   "cell_type": "code",
   "execution_count": 34,
   "metadata": {},
   "outputs": [],
   "source": [
    "class Config():\n",
    "    input_paths = ['./data_for_training/data/2023-wimbledon-1301-player1.csv']\n",
    "                #    './data_for_training/data/2023-wimbledon-1301-player2.csv',\n",
    "                #    './data_for_training/data/2023-wimbledon-1302-player1.csv',\n",
    "                #    './data_for_training/data/2023-wimbledon-1302-player2.csv',\n",
    "                #    './data_for_training/data/2023-wimbledon-1303-player1.csv',\n",
    "                #    './data_for_training/data/2023-wimbledon-1303-player2.csv',\n",
    "                #    './data_for_training/data/2023-wimbledon-1304-player1.csv',\n",
    "                #    './data_for_training/data/2023-wimbledon-1304-player2.csv',\n",
    "                #    './data_for_training/data/2023-wimbledon-1305-player1.csv',\n",
    "                #    './data_for_training/data/2023-wimbledon-1305-player2.csv',\n",
    "                #    './data_for_training/data/2023-wimbledon-1306-player1.csv',\n",
    "                #    './data_for_training/data/2023-wimbledon-1306-player2.csv',\n",
    "                #    './data_for_training/data/2023-wimbledon-1307-player1.csv',\n",
    "                #    './data_for_training/data/2023-wimbledon-1307-player2.csv',\n",
    "                #    './data_for_training/data/2023-wimbledon-1308-player1.csv',\n",
    "                #    './data_for_training/data/2023-wimbledon-1308-player2.csv',\n",
    "                #    './data_for_training/data/2023-wimbledon-1309-player1.csv',\n",
    "                #    './data_for_training/data/2023-wimbledon-1309-player2.csv',\n",
    "                #    './data_for_training/data/2023-wimbledon-1310-player1.csv',\n",
    "                #    './data_for_training/data/2023-wimbledon-1310-player2.csv',\n",
    "                #    './data_for_training/data/2023-wimbledon-1311-player1.csv',\n",
    "                #    './data_for_training/data/2023-wimbledon-1311-player2.csv',\n",
    "                #    './data_for_training/data/2023-wimbledon-1312-player1.csv',\n",
    "                #    './data_for_training/data/2023-wimbledon-1312-player2.csv',\n",
    "                #    './data_for_training/data/2023-wimbledon-1313-player1.csv',\n",
    "                #    './data_for_training/data/2023-wimbledon-1313-player2.csv',\n",
    "                #    './data_for_training/data/2023-wimbledon-1314-player1.csv',\n",
    "                #    './data_for_training/data/2023-wimbledon-1314-player2.csv',\n",
    "                #    './data_for_training/data/2023-wimbledon-1315-player1.csv',\n",
    "                #    './data_for_training/data/2023-wimbledon-1315-player2.csv',\n",
    "                #    './data_for_training/data/2023-wimbledon-1316-player1.csv',\n",
    "                #    './data_for_training/data/2023-wimbledon-1316-player2.csv']\n",
    "    timestep = 10\n",
    "    batch_size = 32\n",
    "    feature_size = 16\n",
    "    hidden_size = 256 # TODO: can change\n",
    "    output_size = 4\n",
    "    predict_len = 5\n",
    "    num_layers = 3 # TODO: can change\n",
    "    epochs = 10 # TODO: can change\n",
    "    best_loss = 100\n",
    "    learning_rate = 0.0003 # TODO: can change\n",
    "    model_name = 'GRU_for_tennis_momentum_swing'\n",
    "    save_path = './{}.pth'.format(model_name)\n",
    "\n",
    "config = Config()"
   ]
  },
  {
   "cell_type": "code",
   "execution_count": 35,
   "metadata": {},
   "outputs": [],
   "source": [
    "\n",
    "def fetch_data(dataX, dataY, timestep, feature_size, output_size, pred_len):\n",
    "    myDataX = []\n",
    "    myDataY = []\n",
    "    for i in range(0, len(dataX) - timestep):\n",
    "        target_row = dataY[i + timestep - 1].reshape(-1, output_size)\n",
    "        res = []\n",
    "        for j in range(target_row.shape[0]):\n",
    "            for k in range(target_row.shape[1]):\n",
    "                if target_row[j][k] == 1:\n",
    "                    res.append(k)\n",
    "                    break\n",
    "        if len(res) != target_row.shape[0]:\n",
    "            break\n",
    "        myDataX.append(dataX[i: i + timestep])\n",
    "        myDataY.append(res)\n",
    "    myDataX = np.array(myDataX)\n",
    "    myDataY = np.array(myDataY)\n",
    "\n",
    "    train_size = int(np.round(0.8 * myDataX.shape[0]))\n",
    "    trainX = myDataX[:train_size, :].reshape(-1, timestep, feature_size)\n",
    "    testX = myDataX[train_size:, :].reshape(-1, timestep, feature_size)\n",
    "    trainY = myDataY[:train_size, :].reshape(-1, pred_len)\n",
    "    testY = myDataY[train_size:, :].reshape(-1, pred_len)\n",
    "    return (trainX, trainY, testX, testY)\n",
    "\n",
    "trainX = []\n",
    "trainY = []\n",
    "testX = []\n",
    "testY = []\n",
    "dfy = pd.read_csv('./data_for_training/momentum_condition.csv')\n",
    "dataY = np.array(dfy)\n",
    "df_idx = pd.read_csv('./data_for_training/match_index.csv')\n",
    "match_id = np.array(df_idx).reshape(-1)\n",
    "for i in range(len(match_id)):\n",
    "    match_id[i] -= 1\n",
    "pos = 0\n",
    "match_no = 0\n",
    "\n",
    "for input_path in config.input_paths:\n",
    "    dfx = pd.read_csv(input_path)\n",
    "    dataX = np.array(dfx)\n",
    "    a, b, c, d = fetch_data(dataX, dataY[pos: match_id[match_no // 2]], config.timestep, config.feature_size, config.output_size, config.predict_len)\n",
    "    if match_no % 2 == 1:\n",
    "        pos = match_id[match_no // 2]\n",
    "    match_no += 1\n",
    "    for x in a:\n",
    "        trainX.append(x)\n",
    "    for y in b:\n",
    "        trainY.append(y)\n",
    "    for x in c:\n",
    "        testX.append(x)\n",
    "    for y in d:\n",
    "        testY.append(y)\n",
    "trainX = np.array(trainX)#.reshape(-1, config.timestep, config.feature_size)\n",
    "testX = np.array(testX).reshape(-1, config.timestep, config.feature_size)\n",
    "trainY = np.array(trainY).reshape(-1, config.predict_len)\n",
    "testY = np.array(testY).reshape(-1, config.predict_len)\n",
    "\n",
    "x_train_tensor = torch.from_numpy(trainX).to(torch.float32)\n",
    "y_train_tensor = torch.from_numpy(trainY).to(torch.long)\n",
    "\n",
    "x_test_tensor = torch.from_numpy(testX).to(torch.float32)\n",
    "y_test_tensor = torch.from_numpy(testY).to(torch.long)\n",
    "\n",
    "train_data = TensorDataset(x_train_tensor, y_train_tensor)\n",
    "test_data = TensorDataset(x_test_tensor, y_test_tensor)\n",
    "\n",
    "train_loader = DataLoader(train_data, config.batch_size, False)\n",
    "test_loader = DataLoader(test_data, config.batch_size, False)\n"
   ]
  },
  {
   "cell_type": "code",
   "execution_count": 36,
   "metadata": {},
   "outputs": [],
   "source": [
    "# GRU\n",
    "class GRURNN(nn.Module):\n",
    "    def __init__(self, input_size, hidden_size, num_layers, output_size):\n",
    "        super().__init__()\n",
    "        self.input_size = input_size\n",
    "        self.hidden_size = hidden_size\n",
    "        self.num_layers = num_layers\n",
    "        self.gru = nn.GRU(self.input_size, self.hidden_size, self.num_layers, batch_first=True)\n",
    "        self.fc1 = nn.Linear(self.hidden_size, output_size)\n",
    "        self.fc2 = nn.Linear(self.hidden_size, output_size)\n",
    "        self.fc3 = nn.Linear(self.hidden_size, output_size)\n",
    "        self.fc4 = nn.Linear(self.hidden_size, output_size)\n",
    "        self.fc5 = nn.Linear(self.hidden_size, output_size)\n",
    "        self.softmax = nn.Softmax(dim=1)\n",
    " \n",
    "    def forward(self, input_seq):\n",
    "        batch_size = input_seq.shape[0]\n",
    "        h_0 = torch.zeros(self.num_layers, batch_size, self.hidden_size)\n",
    "        output, _ = self.gru(input_seq,h_0)\n",
    "        pred1 = self.fc1(output)\n",
    "        pred2 = self.fc2(output)\n",
    "        pred3 = self.fc3(output)\n",
    "        pred4 = self.fc4(output)\n",
    "        pred5 = self.fc5(output)\n",
    "        pred1, pred2, pred3, pred4, pred5 = pred1[:, -1, :], pred2[:, -1, :], pred3[:, -1, :], pred4[:, -1, :], pred5[:, -1, :]\n",
    "        pred1, pred2, pred3, pred4, pred5 = self.softmax(pred1), self.softmax(pred2), self.softmax(pred3), self.softmax(pred4), self.softmax(pred5)\n",
    "        pred = torch.stack([pred1, pred2, pred3, pred4, pred5], dim=1)\n",
    "        return pred"
   ]
  },
  {
   "cell_type": "code",
   "execution_count": 37,
   "metadata": {},
   "outputs": [],
   "source": [
    "\n",
    "model = GRURNN(config.feature_size, config.hidden_size, config.num_layers, config.output_size)\n",
    "loss_function = nn.CrossEntropyLoss()\n",
    "optimizer = torch.optim.AdamW(model.parameters(), lr=config.learning_rate)"
   ]
  },
  {
   "cell_type": "code",
   "execution_count": 40,
   "metadata": {},
   "outputs": [
    {
     "name": "stderr",
     "output_type": "stream",
     "text": [
      "train epoch[1/10] loss: 6.199: 100%|██████████████████████████████████████████████████████| 8/8 [00:00<00:00, 41.18it/s]\n",
      "100%|████████████████████████████████████████████████████████████████████████████████████| 2/2 [00:00<00:00, 135.75it/s]\n",
      "train epoch[2/10] loss: 6.117: 100%|██████████████████████████████████████████████████████| 8/8 [00:00<00:00, 40.18it/s]\n",
      "100%|████████████████████████████████████████████████████████████████████████████████████| 2/2 [00:00<00:00, 127.47it/s]\n",
      "train epoch[3/10] loss: 5.991: 100%|██████████████████████████████████████████████████████| 8/8 [00:00<00:00, 44.12it/s]\n",
      "100%|████████████████████████████████████████████████████████████████████████████████████| 2/2 [00:00<00:00, 111.14it/s]\n",
      "train epoch[4/10] loss: 5.844: 100%|██████████████████████████████████████████████████████| 8/8 [00:00<00:00, 41.33it/s]\n",
      "100%|████████████████████████████████████████████████████████████████████████████████████| 2/2 [00:00<00:00, 127.71it/s]\n",
      "train epoch[5/10] loss: 5.614: 100%|██████████████████████████████████████████████████████| 8/8 [00:00<00:00, 42.20it/s]\n",
      "100%|████████████████████████████████████████████████████████████████████████████████████| 2/2 [00:00<00:00, 125.10it/s]\n",
      "train epoch[6/10] loss: 5.427: 100%|██████████████████████████████████████████████████████| 8/8 [00:00<00:00, 42.69it/s]\n",
      "100%|████████████████████████████████████████████████████████████████████████████████████| 2/2 [00:00<00:00, 149.35it/s]\n",
      "train epoch[7/10] loss: 5.283: 100%|██████████████████████████████████████████████████████| 8/8 [00:00<00:00, 41.35it/s]\n",
      "100%|████████████████████████████████████████████████████████████████████████████████████| 2/2 [00:00<00:00, 159.10it/s]\n",
      "train epoch[8/10] loss: 5.387: 100%|██████████████████████████████████████████████████████| 8/8 [00:00<00:00, 45.13it/s]\n",
      "100%|████████████████████████████████████████████████████████████████████████████████████| 2/2 [00:00<00:00, 105.99it/s]\n",
      "train epoch[9/10] loss: 5.990: 100%|██████████████████████████████████████████████████████| 8/8 [00:00<00:00, 44.35it/s]\n",
      "100%|████████████████████████████████████████████████████████████████████████████████████| 2/2 [00:00<00:00, 156.74it/s]\n",
      "train epoch[10/10] loss: 5.860: 100%|█████████████████████████████████████████████████████| 8/8 [00:00<00:00, 39.22it/s]\n",
      "100%|████████████████████████████████████████████████████████████████████████████████████| 2/2 [00:00<00:00, 123.67it/s]\n"
     ]
    }
   ],
   "source": [
    "for epoch in range(config.epochs):\n",
    "    model.train()\n",
    "    running_loss = 0\n",
    "    train_bar = tqdm(train_loader)\n",
    "    for data in train_bar:\n",
    "        x_train, y_train = data\n",
    "        optimizer.zero_grad()\n",
    "        y_train_pred = model(x_train)\n",
    "        loss = torch.tensor(0.0)\n",
    "        for i in range(config.predict_len):\n",
    "            loss += loss_function(y_train_pred[:, i, :], y_train[:, i])\n",
    "        loss.backward()\n",
    "        optimizer.step()\n",
    "        \n",
    "        running_loss += loss.item()\n",
    "        train_bar.desc = 'train epoch[{}/{}] loss: {:.3f}'.format(epoch + 1, config.epochs, loss)\n",
    "    \n",
    "    model.eval()\n",
    "    test_loss = 0\n",
    "    with torch.no_grad():\n",
    "        test_bar = tqdm(test_loader)\n",
    "        for data in test_bar:\n",
    "            x_test, y_test = data\n",
    "            y_test_pred = model(x_test)\n",
    "            loss = torch.tensor(0.0)\n",
    "            for i in range(config.predict_len):\n",
    "                loss += loss_function(y_train_pred[:, i, :], y_train[:, i])\n",
    "            test_loss = loss\n",
    "    \n",
    "    if test_loss < config.best_loss:\n",
    "        config.best_loss = test_loss\n",
    "        torch.save(model.state_dict(), config.save_path)\n"
   ]
  },
  {
   "cell_type": "code",
   "execution_count": 41,
   "metadata": {},
   "outputs": [
    {
     "name": "stderr",
     "output_type": "stream",
     "text": [
      "100%|█████████████████████████████████████████████████████████████████████████████████████| 8/8 [00:00<00:00, 67.75it/s]\n"
     ]
    },
    {
     "name": "stdout",
     "output_type": "stream",
     "text": [
      "train set predict rate for step 1 is: 0.372807\n",
      "train set predict rate for step 2 is: 0.412281\n",
      "train set predict rate for step 3 is: 0.412281\n",
      "train set predict rate for step 4 is: 0.390351\n",
      "train set predict rate for step 5 is: 0.368421\n"
     ]
    },
    {
     "name": "stderr",
     "output_type": "stream",
     "text": [
      "100%|█████████████████████████████████████████████████████████████████████████████████████| 2/2 [00:00<00:00, 82.14it/s]"
     ]
    },
    {
     "name": "stdout",
     "output_type": "stream",
     "text": [
      "test set predict rate for step 1 is: 0.192982\n",
      "test set predict rate for step 2 is: 0.228070\n",
      "test set predict rate for step 3 is: 0.228070\n",
      "test set predict rate for step 4 is: 0.315789\n",
      "test set predict rate for step 5 is: 0.368421\n"
     ]
    },
    {
     "name": "stderr",
     "output_type": "stream",
     "text": [
      "\n"
     ]
    }
   ],
   "source": [
    "model.eval()\n",
    "with torch.no_grad():\n",
    "    train_bar = tqdm(train_loader)\n",
    "\n",
    "    predict_rate = [0 for _ in range(config.predict_len)]\n",
    "    tot = [0 for _ in range(config.predict_len)]\n",
    "    for data in train_bar:\n",
    "        x_train, y_train = data\n",
    "        y_train_pred = model(x_train)\n",
    "        for i in range(config.predict_len):\n",
    "            tot[i] += x_train.shape[0]\n",
    "        for i in range(x_train.shape[0]):\n",
    "            for j in range(config.predict_len):\n",
    "                pred = 0\n",
    "                for k in range(config.output_size):\n",
    "                    if y_train_pred[i][j][k].item() > y_train_pred[i][j][pred].item():\n",
    "                        pred = k\n",
    "                predict_rate[j] += (1 if pred == y_train[i][j] else 0)\n",
    "    for i in range(config.predict_len):\n",
    "        print('train set predict rate for step {:d} is: {:f}'.format(i + 1, predict_rate[i] / tot[i]))\n",
    "    test_bar = tqdm(test_loader)\n",
    "\n",
    "    predict_rate = [0 for _ in range(config.predict_len)]\n",
    "    tot = [0 for _ in range(config.predict_len)]\n",
    "    for data in test_bar:\n",
    "        x_test, y_test = data\n",
    "        y_test_pred = model(x_test)\n",
    "        for i in range(config.predict_len):\n",
    "            tot[i] += x_test.shape[0]\n",
    "        for i in range(x_test.shape[0]):\n",
    "            for j in range(config.predict_len):\n",
    "                pred = 0\n",
    "                for k in range(config.output_size):\n",
    "                    if y_test_pred[i][j][k].item() > y_test_pred[i][j][pred].item():\n",
    "                        pred = k\n",
    "                predict_rate[j] += (1 if pred == y_test[i][j] else 0)\n",
    "    for i in range(config.predict_len):\n",
    "        print('test set predict rate for step {:d} is: {:f}'.format(i + 1, predict_rate[i] / tot[i]))"
   ]
  },
  {
   "cell_type": "code",
   "execution_count": 11,
   "metadata": {},
   "outputs": [
    {
     "data": {
      "text/plain": [
       "(5, 1)"
      ]
     },
     "execution_count": 11,
     "metadata": {},
     "output_type": "execute_result"
    }
   ],
   "source": [
    "lst = [np.zeros(1) for _ in range(5)]\n",
    "np.array(lst).shape"
   ]
  }
 ],
 "metadata": {
  "kernelspec": {
   "display_name": "Python 3 (ipykernel)",
   "language": "python",
   "name": "python3"
  },
  "language_info": {
   "codemirror_mode": {
    "name": "ipython",
    "version": 3
   },
   "file_extension": ".py",
   "mimetype": "text/x-python",
   "name": "python",
   "nbconvert_exporter": "python",
   "pygments_lexer": "ipython3",
   "version": "3.11.4"
  }
 },
 "nbformat": 4,
 "nbformat_minor": 2
}
